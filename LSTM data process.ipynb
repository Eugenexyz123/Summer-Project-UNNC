{
 "cells": [
  {
   "cell_type": "code",
   "execution_count": 30,
   "id": "44d9fe4f",
   "metadata": {},
   "outputs": [
    {
     "name": "stderr",
     "output_type": "stream",
     "text": [
      "/Users/apple/opt/anaconda3/lib/python3.8/site-packages/IPython/core/interactiveshell.py:3165: DtypeWarning: Columns (7,23,24) have mixed types.Specify dtype option on import or set low_memory=False.\n",
      "  has_raised = await self.run_ast_nodes(code_ast.body, cell_name,\n"
     ]
    }
   ],
   "source": [
    "#Importing necessary libraries\n",
    "import csv\n",
    "import itertools\n",
    "import pandas as pd\n",
    "\n",
    "#Transform .txt into .csv\n",
    "\n",
    "with open('sample_orig_2021.txt', 'r') as infile, open('dataset1.csv', 'w') as outfile:\n",
    "        stripped = (line.strip() for line in infile)\n",
    "        lines = (line.split(\"|\") for line in stripped if line)\n",
    "        writer = csv.writer(outfile)\n",
    "        writer.writerows(lines)\n",
    "\n",
    "with open('sample_svcg_2021.txt', 'r') as infile, open('dataset2.csv', 'w') as outfile:\n",
    "        stripped = (line.strip() for line in infile)\n",
    "        lines = (line.split(\"|\") for line in stripped if line)\n",
    "        writer = csv.writer(outfile)\n",
    "        writer.writerows(lines)\n",
    "        \n",
    "        \n",
    "#Add title to columns respectively\n",
    "file0 = pd.read_csv('dataset1.csv')\n",
    "headerList0 = ['CS', 'FPD', 'FTHF','MD','MSA/MD','MI%','NOU','OS','OCLTV','ODIT','OU','OLTV','OIR','CHANEL','PPMF','AT','PS','PT','PC','LSN','LP','OLT','NB','SN','SEL-N','SER-N','SCF','PRRLSN','PI','RRI','PVM','IOI'] \n",
    "file0.to_csv('dataset1.csv', header=headerList0, index=False)\n",
    "\n",
    "file1 = pd.read_csv('dataset2.csv')\n",
    "headerList1 = ['LSN','MROP','CAU','CLDS','LA','RMTLM','DSD','MF','ZBC','ZBED','CIR','CDU','DDLPI','MR','NSP','NMR','EXP','LC','MAPC','TAI','ME','ALC','MC','SMF','DPP','ELTV','ZBRU','DAI','DDTD','BASC','CMMC','IBU'] \n",
    "file1.to_csv('dataset2.csv', header=headerList1, index=False)"
   ]
  },
  {
   "cell_type": "code",
   "execution_count": 31,
   "id": "33e73d9f",
   "metadata": {
    "scrolled": true
   },
   "outputs": [
    {
     "name": "stderr",
     "output_type": "stream",
     "text": [
      "/Users/apple/opt/anaconda3/lib/python3.8/site-packages/IPython/core/interactiveshell.py:3165: DtypeWarning: Columns (0,1,3,4,5,6,8,9,10,11,12,18,21,22,26,28,29) have mixed types.Specify dtype option on import or set low_memory=False.\n",
      "  has_raised = await self.run_ast_nodes(code_ast.body, cell_name,\n",
      "/Users/apple/opt/anaconda3/lib/python3.8/site-packages/IPython/core/interactiveshell.py:3165: DtypeWarning: Columns (1,2,3,4,5,6,7,8,9,10,11,12,13,14,15,16,17,18,19,20,21,22,23,24,25,26,27,30,31) have mixed types.Specify dtype option on import or set low_memory=False.\n",
      "  has_raised = await self.run_ast_nodes(code_ast.body, cell_name,\n"
     ]
    },
    {
     "data": {
      "text/plain": [
       "((50000, 33), (839724, 33))"
      ]
     },
     "execution_count": 31,
     "metadata": {},
     "output_type": "execute_result"
    }
   ],
   "source": [
    "#Process the data we would like to use to compute LSTM model\n",
    "headerList0 = ['CS', 'FPD', 'FTHF','MD','MSA/MD','MI%','NOU','OS','OCLTV','ODIT','OU','OLTV','OIR','CHANEL','PPMF','AT','PS','PT','PC','LSN','LP','OLT','NB','SN','SEL-N','SER-N','SCF','PRRLSN','PI','RRI','PVM','IOI'] \n",
    "headerList1 = ['LSN','MROP','CAU','CLDS','LA','RMTLM','DSD','MF','ZBC','ZBED','CIR','CDU','DDLPI','MR','NSP','NMR','EXP','LC','MAPC','TAI','ME','ALC','MC','SMF','DPP','ELTV','ZBRU','DAI','DDTD','BASC','CMMC','IBU']\n",
    "\n",
    "\n",
    "df0=pd.read_csv('dataset1.csv',header=None, names=headerList0,index_col=False)\n",
    "df1=pd.read_csv('dataset2.csv',header=None, names=headerList1,index_col=False)\n",
    "df0.reset_index(inplace=True)\n",
    "df1.reset_index(inplace=True)\n",
    "\n",
    "#Fill in the banks\n",
    "df0['RRI'].fillna(0, inplace=True)\n",
    "df0['MSA/MD'].fillna(0, inplace=True)\n",
    "df0.shape,df1.shape\n",
    "\n"
   ]
  },
  {
   "cell_type": "code",
   "execution_count": null,
   "id": "c1aa7103",
   "metadata": {},
   "outputs": [],
   "source": [
    "headerList0 = ['CS', 'FPD', 'FTHF','MD','MSA/MD','MI%','NOU','OS','OCLTV','ODIT','OU','OLTV','OIR','CHANEL','PPMF','AT','PS','PT','PC','LSN','LP','OLT','NB','SN','SEL-N','SER-N','SCF','PRRLSN','PI','RRI','PVM','IOI'] \n",
    "headerList1 = ['LSN','MROP','CAU','CLDS','LA','RMTLM','DSD','MF','ZBC','ZBED','CIR','CDU','DDLPI','MR','NSP','NMR','EXP','LC','MAPC','TAI','ME','ALC','MC','SMF','DPP','ELTV','ZBRU','DAI','DDTD','BASC','CMMC','IBU']\n",
    "mm=0\n",
    "for i in headerList0:\n",
    "    for j in headerList1:\n",
    "        if i==j:\n",
    "            mm=1\n",
    "        else:\n",
    "            headerList1.append(j)\n",
    "print(headerList1)           "
   ]
  },
  {
   "cell_type": "code",
   "execution_count": 3,
   "id": "6992557e",
   "metadata": {},
   "outputs": [
    {
     "ename": "NameError",
     "evalue": "name 'pd' is not defined",
     "output_type": "error",
     "traceback": [
      "\u001b[0;31m---------------------------------------------------------------------------\u001b[0m",
      "\u001b[0;31mNameError\u001b[0m                                 Traceback (most recent call last)",
      "\u001b[0;32m<ipython-input-3-a9267fb8cbc4>\u001b[0m in \u001b[0;36m<module>\u001b[0;34m\u001b[0m\n\u001b[1;32m      1\u001b[0m \u001b[0;31m#One-hot coding\u001b[0m\u001b[0;34m\u001b[0m\u001b[0;34m\u001b[0m\u001b[0;34m\u001b[0m\u001b[0m\n\u001b[1;32m      2\u001b[0m \u001b[0mencoded_columns0\u001b[0m \u001b[0;34m=\u001b[0m \u001b[0;34m[\u001b[0m\u001b[0;34m'FTHF'\u001b[0m\u001b[0;34m,\u001b[0m\u001b[0;34m'OS'\u001b[0m\u001b[0;34m,\u001b[0m\u001b[0;34m'CHANEL'\u001b[0m\u001b[0;34m,\u001b[0m\u001b[0;34m'PPMF'\u001b[0m\u001b[0;34m,\u001b[0m\u001b[0;34m'AT'\u001b[0m\u001b[0;34m,\u001b[0m\u001b[0;34m'PS'\u001b[0m\u001b[0;34m,\u001b[0m\u001b[0;34m'PT'\u001b[0m\u001b[0;34m,\u001b[0m\u001b[0;34m'LP'\u001b[0m\u001b[0;34m,\u001b[0m\u001b[0;34m'SEL-N'\u001b[0m\u001b[0;34m,\u001b[0m\u001b[0;34m'SER-N'\u001b[0m\u001b[0;34m,\u001b[0m\u001b[0;34m'RRI'\u001b[0m\u001b[0;34m,\u001b[0m\u001b[0;34m'IOI'\u001b[0m\u001b[0;34m]\u001b[0m\u001b[0;34m\u001b[0m\u001b[0;34m\u001b[0m\u001b[0m\n\u001b[0;32m----> 3\u001b[0;31m \u001b[0mencoded_df0\u001b[0m \u001b[0;34m=\u001b[0m \u001b[0mpd\u001b[0m\u001b[0;34m.\u001b[0m\u001b[0mget_dummies\u001b[0m\u001b[0;34m(\u001b[0m\u001b[0mdf0\u001b[0m\u001b[0;34m,\u001b[0m \u001b[0mcolumns\u001b[0m\u001b[0;34m=\u001b[0m\u001b[0mencoded_columns0\u001b[0m\u001b[0;34m)\u001b[0m\u001b[0;34m\u001b[0m\u001b[0;34m\u001b[0m\u001b[0m\n\u001b[0m\u001b[1;32m      4\u001b[0m \u001b[0;34m\u001b[0m\u001b[0m\n\u001b[1;32m      5\u001b[0m \u001b[0;31m# encoded_columns1 = ['CLDS','ZBC']\u001b[0m\u001b[0;34m\u001b[0m\u001b[0;34m\u001b[0m\u001b[0;34m\u001b[0m\u001b[0m\n",
      "\u001b[0;31mNameError\u001b[0m: name 'pd' is not defined"
     ]
    }
   ],
   "source": [
    "#One-hot coding \n",
    "encoded_columns0 = ['FTHF','OS','CHANEL','PPMF','AT','PS','PT','LP','SEL-N','SER-N','RRI','IOI']\n",
    "encoded_df0 = pd.get_dummies(df0, columns=encoded_columns0)\n",
    "\n",
    "# encoded_columns1 = ['CLDS','ZBC']\n",
    "# encoded_df1 = pd.get_dummies(df1, columns=encoded_columns1)\n",
    "\n",
    "\n",
    "# encoded_df1.reset_index(drop=True, inplace=True)\n",
    "# columns_to_drop1 = ['DDLPI', 'MR', 'NSP', 'NMR', 'EXP', 'LC', 'MAPC', 'TAI', 'ME', 'ALC', 'MC', 'SMF', 'DPP', 'ZBRU', 'DAI', 'DDTD','BASC','CMMC']\n",
    "# encoded_df1.drop(columns=columns_to_drop1, inplace=True)\n",
    "encoded_df1 = df1\n",
    "encoded_df1.reset_index(drop=True, inplace=True)\n",
    "columns_to_drop1 = ['DDLPI', 'MR', 'NSP', 'NMR', 'EXP', 'LC', 'MAPC', 'TAI', 'ME', 'ALC', 'MC', 'SMF', 'DPP', 'ZBRU', 'DAI', 'DDTD','BASC','CMMC']\n",
    "encoded_df1.drop(columns=columns_to_drop1, inplace=True)"
   ]
  },
  {
   "cell_type": "code",
   "execution_count": 51,
   "id": "1f9b5507",
   "metadata": {},
   "outputs": [
    {
     "name": "stdout",
     "output_type": "stream",
     "text": [
      "['index', 'CS', 'FPD', 'MD', 'MSA/MD', 'MI%', 'NOU', 'OCLTV', 'ODIT', 'OU', 'OLTV', 'OIR', 'PC', 'LSN', 'OLT', 'NB', 'SN', 'SCF', 'PRRLSN', 'PI', 'PVM', 'FTHF_FTHF', 'FTHF_N', 'FTHF_Y', 'OS_I', 'OS_OS', 'OS_P', 'OS_S', 'CHANEL_B', 'CHANEL_C', 'CHANEL_CHANEL', 'CHANEL_R', 'PPMF_N', 'PPMF_PPMF', 'AT_AT', 'AT_FRM', 'PS_AK', 'PS_AL', 'PS_AR', 'PS_AZ', 'PS_CA', 'PS_CO', 'PS_CT', 'PS_DC', 'PS_DE', 'PS_FL', 'PS_GA', 'PS_GU', 'PS_HI', 'PS_IA', 'PS_ID', 'PS_IL', 'PS_IN', 'PS_KS', 'PS_KY', 'PS_LA', 'PS_MA', 'PS_MD', 'PS_ME', 'PS_MI', 'PS_MN', 'PS_MO', 'PS_MS', 'PS_MT', 'PS_NC', 'PS_ND', 'PS_NE', 'PS_NH', 'PS_NJ', 'PS_NM', 'PS_NV', 'PS_NY', 'PS_OH', 'PS_OK', 'PS_OR', 'PS_PA', 'PS_PR', 'PS_PS', 'PS_RI', 'PS_SC', 'PS_SD', 'PS_TN', 'PS_TX', 'PS_UT', 'PS_VA', 'PS_VI', 'PS_VT', 'PS_WA', 'PS_WI', 'PS_WV', 'PS_WY', 'PT_CO', 'PT_CP', 'PT_MH', 'PT_PT', 'PT_PU', 'PT_SF', 'LP_C', 'LP_LP', 'LP_N', 'LP_P', 'SEL-N_AMERIHOME MORTGAGE COMPANY, LLC', 'SEL-N_AMERISAVE MORTGAGE CORPORATION', 'SEL-N_CALIBER HOME LOANS, INC.', 'SEL-N_CITIZENS BANK, NA', 'SEL-N_CMG MORTGAGE, INC.', 'SEL-N_CROSSCOUNTRY MORTGAGE, LLC', 'SEL-N_FIFTH THIRD BANK, NATIONAL ASSOCIATION', 'SEL-N_FREEDOM MORTGAGE CORPORATION', 'SEL-N_GUILD MORTGAGE COMPANY LLC', 'SEL-N_HOME POINT FINANCIAL CORPORATION', 'SEL-N_JPMORGAN CHASE BANK, NATIONAL ASSOCIATION', 'SEL-N_LAKEVIEW LOAN SERVICING, LLC', 'SEL-N_LOANDEPOT.COM, LLC', 'SEL-N_MARLIN MORTGAGE CAPITAL, LLC', 'SEL-N_MATRIX FINANCIAL SERVICES CORPORATION', 'SEL-N_NATIONSTAR MORTGAGE LLC DBA MR. COOPER', 'SEL-N_NEW RESIDENTIAL MORTGAGE LLC', 'SEL-N_NEWREZ LLC', 'SEL-N_NEXUS NOVA LLC', 'SEL-N_ONSLOW BAY FINANCIAL LLC', 'SEL-N_Other servicers', 'SEL-N_PENNYMAC CORP.', 'SEL-N_PENNYMAC LOAN SERVICES, LLC', 'SEL-N_PHH MORTGAGE CORPORATION', 'SEL-N_PNC BANK, NA', 'SEL-N_ROCKET MORTGAGE, LLC', 'SEL-N_SEL-N', 'SEL-N_TRUIST BANK', 'SEL-N_U.S. BANK N.A.', 'SEL-N_UNITED WHOLESALE MORTGAGE, LLC', 'SEL-N_WELLS FARGO BANK, N.A.', 'SER-N_SER-N', 'SER-N_Y', 'RRI_1', 'RRI_2', 'RRI_3', 'RRI_9', 'RRI_1', 'RRI_2', 'RRI_3', 'RRI_9', 'RRI_RRI', 'IOI_7', 'IOI_IOI', 'IOI_N', 'IOI_Y']\n"
     ]
    }
   ],
   "source": [
    "print(encoded_df0.columns.to_list())"
   ]
  },
  {
   "cell_type": "code",
   "execution_count": 38,
   "id": "95c04ffc",
   "metadata": {},
   "outputs": [
    {
     "name": "stdout",
     "output_type": "stream",
     "text": [
      "['index', 'LSN', 'MROP', 'CAU', 'CLDS', 'LA', 'RMTLM', 'DSD', 'MF', 'ZBC', 'ZBED', 'CIR', 'CDU', 'ELTV', 'IBU']\n"
     ]
    }
   ],
   "source": [
    "print(encoded_df1.columns.to_list())"
   ]
  },
  {
   "cell_type": "code",
   "execution_count": 39,
   "id": "644e7f17",
   "metadata": {},
   "outputs": [],
   "source": [
    "import pandas as pd\n",
    "columns_to_convert0 = ['CS','MSA/MD','MI%','NOU','OCLTV','ODIT','OU','OLTV','OIR','OLT','NB','SCF','PRRLSN','PI'] \n",
    "\n",
    "for col in columns_to_convert0:\n",
    "    encoded_df0[col] = pd.to_numeric(encoded_df0[col], errors='coerce')\n",
    "\n",
    "columns_to_convert1 =  ['CAU','LA','RMTLM','CIR','CDU','ELTV','IBU','ZBC','CLDS']\n",
    "\n",
    "for col in columns_to_convert1:\n",
    "    encoded_df1[col] = pd.to_numeric( encoded_df1[col], errors='coerce')\n",
    "\n"
   ]
  },
  {
   "cell_type": "code",
   "execution_count": 40,
   "id": "188a4dd4",
   "metadata": {},
   "outputs": [
    {
     "data": {
      "text/plain": [
       "(839702, 161)"
      ]
     },
     "execution_count": 40,
     "metadata": {},
     "output_type": "execute_result"
    }
   ],
   "source": [
    "#Combine the two datasets according to LOAN SEQUENCE NUMBER \n",
    "combinedDataSet = pd.merge(encoded_df0,encoded_df1, on='LSN', how='inner')\n",
    "combinedDataSet.shape\n"
   ]
  },
  {
   "cell_type": "code",
   "execution_count": 44,
   "id": "c1a346e3",
   "metadata": {},
   "outputs": [
    {
     "name": "stdout",
     "output_type": "stream",
     "text": [
      "['index_x', 'CS', 'MSA/MD', 'MI%', 'NOU', 'OCLTV', 'ODIT', 'OU', 'OLTV', 'OIR', 'OLT', 'NB', 'SCF', 'PRRLSN', 'PI', 'FTHF_FTHF', 'FTHF_N', 'FTHF_Y', 'OS_I', 'OS_OS', 'OS_P', 'OS_S', 'CHANEL_B', 'CHANEL_C', 'CHANEL_CHANEL', 'CHANEL_R', 'PPMF_N', 'PPMF_PPMF', 'AT_AT', 'AT_FRM', 'PS_AK', 'PS_AL', 'PS_AR', 'PS_AZ', 'PS_CA', 'PS_CO', 'PS_CT', 'PS_DC', 'PS_DE', 'PS_FL', 'PS_GA', 'PS_GU', 'PS_HI', 'PS_IA', 'PS_ID', 'PS_IL', 'PS_IN', 'PS_KS', 'PS_KY', 'PS_LA', 'PS_MA', 'PS_MD', 'PS_ME', 'PS_MI', 'PS_MN', 'PS_MO', 'PS_MS', 'PS_MT', 'PS_NC', 'PS_ND', 'PS_NE', 'PS_NH', 'PS_NJ', 'PS_NM', 'PS_NV', 'PS_NY', 'PS_OH', 'PS_OK', 'PS_OR', 'PS_PA', 'PS_PR', 'PS_PS', 'PS_RI', 'PS_SC', 'PS_SD', 'PS_TN', 'PS_TX', 'PS_UT', 'PS_VA', 'PS_VI', 'PS_VT', 'PS_WA', 'PS_WI', 'PS_WV', 'PS_WY', 'PT_CO', 'PT_CP', 'PT_MH', 'PT_PT', 'PT_PU', 'PT_SF', 'LP_C', 'LP_LP', 'LP_N', 'LP_P', 'SEL-N_AMERIHOME MORTGAGE COMPANY, LLC', 'SEL-N_AMERISAVE MORTGAGE CORPORATION', 'SEL-N_CALIBER HOME LOANS, INC.', 'SEL-N_CITIZENS BANK, NA', 'SEL-N_CMG MORTGAGE, INC.', 'SEL-N_CROSSCOUNTRY MORTGAGE, LLC', 'SEL-N_FIFTH THIRD BANK, NATIONAL ASSOCIATION', 'SEL-N_FREEDOM MORTGAGE CORPORATION', 'SEL-N_GUILD MORTGAGE COMPANY LLC', 'SEL-N_HOME POINT FINANCIAL CORPORATION', 'SEL-N_JPMORGAN CHASE BANK, NATIONAL ASSOCIATION', 'SEL-N_LAKEVIEW LOAN SERVICING, LLC', 'SEL-N_LOANDEPOT.COM, LLC', 'SEL-N_MARLIN MORTGAGE CAPITAL, LLC', 'SEL-N_MATRIX FINANCIAL SERVICES CORPORATION', 'SEL-N_NATIONSTAR MORTGAGE LLC DBA MR. COOPER', 'SEL-N_NEW RESIDENTIAL MORTGAGE LLC', 'SEL-N_NEWREZ LLC', 'SEL-N_NEXUS NOVA LLC', 'SEL-N_ONSLOW BAY FINANCIAL LLC', 'SEL-N_Other servicers', 'SEL-N_PENNYMAC CORP.', 'SEL-N_PENNYMAC LOAN SERVICES, LLC', 'SEL-N_PHH MORTGAGE CORPORATION', 'SEL-N_PNC BANK, NA', 'SEL-N_ROCKET MORTGAGE, LLC', 'SEL-N_SEL-N', 'SEL-N_TRUIST BANK', 'SEL-N_U.S. BANK N.A.', 'SEL-N_UNITED WHOLESALE MORTGAGE, LLC', 'SEL-N_WELLS FARGO BANK, N.A.', 'SER-N_SER-N', 'SER-N_Y', 'RRI_1', 'RRI_2', 'RRI_3', 'RRI_9', 'RRI_1', 'RRI_2', 'RRI_3', 'RRI_9', 'RRI_RRI', 'IOI_7', 'IOI_IOI', 'IOI_N', 'IOI_Y', 'index_y', 'CAU', 'CLDS', 'LA', 'RMTLM', 'ZBC', 'CIR', 'CDU', 'ELTV', 'IBU']\n"
     ]
    }
   ],
   "source": [
    "print(combinedDataSet.columns.to_list())"
   ]
  },
  {
   "cell_type": "code",
   "execution_count": 53,
   "id": "49ee24dd",
   "metadata": {},
   "outputs": [],
   "source": [
    "# Extract the required columns\n",
    "combinedDataSet.reset_index(drop=True, inplace=True)\n",
    "# columns_to_drop0 = ['DSD','MF','ZBED','LSN','FPD','PVM','MD','MROP','PC','SN']\n",
    "# combinedDataSet.drop(columns=columns_to_drop0, inplace=True)\n",
    "\n",
    "\n",
    "combinedDataSet['BadLoans'] = combinedDataSet['ZBC'].map({1: 0, 2: 1, 3: 1, 96: 1, 9: 1, 15: 1})\n",
    "combinedDataSet.loc[combinedDataSet['CLDS'] >= 3, 'BadLoans'] = 1\n",
    "combinedDataSet.loc[combinedDataSet['CLDS'] < 3, 'BadLoans'] = 0\n",
    "\n",
    "combinedDataSet.to_csv('finaldata.csv', index=False)"
   ]
  }
 ],
 "metadata": {
  "kernelspec": {
   "display_name": "Python 3",
   "language": "python",
   "name": "python3"
  },
  "language_info": {
   "codemirror_mode": {
    "name": "ipython",
    "version": 3
   },
   "file_extension": ".py",
   "mimetype": "text/x-python",
   "name": "python",
   "nbconvert_exporter": "python",
   "pygments_lexer": "ipython3",
   "version": "3.8.8"
  }
 },
 "nbformat": 4,
 "nbformat_minor": 5
}
